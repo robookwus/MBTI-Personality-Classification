{
 "cells": [
  {
   "cell_type": "code",
   "execution_count": 159,
   "id": "e37dcb67",
   "metadata": {},
   "outputs": [
    {
     "name": "stdout",
     "output_type": "stream",
     "text": [
      "              precision    recall  f1-score   support\n",
      "\n",
      "        ENFJ       0.08      0.10      0.09       672\n",
      "        ENFP       0.12      0.13      0.12       969\n",
      "        ENTJ       0.08      0.16      0.11       696\n",
      "        ENTP       0.15      0.14      0.15      2132\n",
      "        ESFJ       0.10      0.29      0.14       267\n",
      "        ESFP       0.13      0.16      0.14       461\n",
      "        ESTJ       0.05      0.18      0.08       272\n",
      "        ESTP       0.09      0.15      0.12       737\n",
      "        INFJ       0.13      0.11      0.12      1900\n",
      "        INFP       0.18      0.10      0.13      2408\n",
      "        INTJ       0.19      0.11      0.14      2266\n",
      "        INTP       0.43      0.16      0.23      3824\n",
      "        ISFJ       0.09      0.18      0.12       730\n",
      "        ISFP       0.07      0.15      0.09       880\n",
      "        ISTJ       0.17      0.18      0.18       967\n",
      "        ISTP       0.09      0.10      0.09       819\n",
      "\n",
      "    accuracy                           0.14     20000\n",
      "   macro avg       0.13      0.15      0.13     20000\n",
      "weighted avg       0.19      0.14      0.15     20000\n",
      "\n"
     ]
    }
   ],
   "source": [
    "import pandas as pd\n",
    "from sklearn.metrics import classification_report\n",
    "#balanced, disprop\n",
    "df=pd.read_csv('/home/deimann/mbti-eval/16/balancedtrain_classification_cp17500.csv', index_col=0)\n",
    "#balanced, prop\n",
    "#df=pd.read_csv('/home/deimann/mbti-eval/16/baltrain_classification_baleval_corrected_cp5500.csv', index_col=0)\n",
    "#proportional, baleval\n",
    "#df=pd.read_csv('/home/deimann/mbti-eval/16/intialtrain2_classification_baleval_cp17780.csv', index_col=0)\n",
    "#prop, prop\n",
    "#df=pd.read_csv('/home/deimann/mbti-eval/16/initialtrain2_classification_new_cp17780.csv', index_col=0)\n",
    "\n",
    "print(classification_report(df['True'],df['Predicted']))"
   ]
  },
  {
   "cell_type": "markdown",
   "id": "f2e7a350",
   "metadata": {},
   "source": [
    "Primary function"
   ]
  },
  {
   "cell_type": "code",
   "execution_count": 123,
   "id": "11064023",
   "metadata": {},
   "outputs": [
    {
     "name": "stdout",
     "output_type": "stream",
     "text": [
      "              precision    recall  f1-score   support\n",
      "\n",
      "          EF       0.11      0.19      0.14       939\n",
      "          EN       0.20      0.19      0.20      3101\n",
      "          ES       0.13      0.19      0.15      1198\n",
      "          ET       0.09      0.23      0.13       968\n",
      "          IF       0.22      0.22      0.22      3288\n",
      "          IN       0.26      0.18      0.22      4166\n",
      "          IS       0.17      0.25      0.20      1697\n",
      "          IT       0.39      0.19      0.26      4643\n",
      "\n",
      "    accuracy                           0.20     20000\n",
      "   macro avg       0.19      0.21      0.19     20000\n",
      "weighted avg       0.24      0.20      0.21     20000\n",
      "\n"
     ]
    }
   ],
   "source": [
    "#prim_list = [IT, IN, IF, IS, EN, ES, ET, EF]\n",
    "df['True'] = df['True'].replace(['INTP','ISTP','INTJ','INFJ','INFP','ISFP','ISTJ','ISFJ', \n",
    "                                 'ENTP','ENFP','ESTP','ESFP','ENTJ','ESTJ','ENFJ','ESFJ'], \\\n",
    "                                 ['IT','IT','IN','IN','IF','IF', 'IS','IS', 'EN','EN', 'ES','ES','ET','ET', 'EF','EF']) \n",
    "df['Predicted'] = df['Predicted'].replace(['INTP','ISTP','INTJ','INFJ','INFP','ISFP','ISTJ','ISFJ', \n",
    "                                 'ENTP','ENFP','ESTP','ESFP','ENTJ','ESTJ','ENFJ','ESFJ'], \\\n",
    "                                 ['IT','IT','IN','IN','IF','IF', 'IS','IS', 'EN','EN', 'ES','ES','ET','ET', 'EF','EF']) \n",
    "\n",
    "\n",
    "#print(df)\n",
    "print(classification_report(df['True'],df['Predicted']))\n"
   ]
  },
  {
   "cell_type": "code",
   "execution_count": 79,
   "id": "7d8abded",
   "metadata": {},
   "outputs": [
    {
     "name": "stdout",
     "output_type": "stream",
     "text": [
      "      True Predicted\n",
      "0       EF        IT\n",
      "1       EF        ET\n",
      "2       EF        ET\n",
      "3       EF        ET\n",
      "4       EF        EF\n",
      "...    ...       ...\n",
      "19895   IT        IN\n",
      "19896   IT        ES\n",
      "19897   IT        EN\n",
      "19898   IT        ET\n",
      "19899   IT        ES\n",
      "\n",
      "[19900 rows x 2 columns]\n",
      "              precision    recall  f1-score   support\n",
      "\n",
      "          EF       0.22      0.34      0.27      2463\n",
      "          EN       0.19      0.16      0.17      2481\n",
      "          ES       0.24      0.25      0.25      2549\n",
      "          ET       0.20      0.28      0.23      2515\n",
      "          IF       0.19      0.11      0.14      2477\n",
      "          IN       0.18      0.12      0.14      2421\n",
      "          IS       0.24      0.26      0.25      2536\n",
      "          IT       0.23      0.19      0.21      2458\n",
      "\n",
      "    accuracy                           0.21     19900\n",
      "   macro avg       0.21      0.21      0.21     19900\n",
      "weighted avg       0.21      0.21      0.21     19900\n",
      "\n"
     ]
    }
   ],
   "source": [
    "#prop dataset, prop eval\n",
    "#prim_list = [IT, IN, IF, IS, EN, ES, ET, EF]\n",
    "df['True'] = df['True'].replace(['INTP','ISTP','INTJ','INFJ','INFP','ISFP','ISTJ','ISFJ', \n",
    "                                 'ENTP','ENFP','ESTP','ESFP','ENTJ','ESTJ','ENFJ','ESFJ'], \\\n",
    "                                 ['IT','IT','IN','IN','IF','IF', 'IS','IS', 'EN','EN', 'ES','ES','ET','ET', 'EF','EF']) \n",
    "df['Predicted'] = df['Predicted'].replace(['INTP','ISTP','INTJ','INFJ','INFP','ISFP','ISTJ','ISFJ', \n",
    "                                 'ENTP','ENFP','ESTP','ESFP','ENTJ','ESTJ','ENFJ','ESFJ'], \\\n",
    "                                 ['IT','IT','IN','IN','IF','IF', 'IS','IS', 'EN','EN', 'ES','ES','ET','ET', 'EF','EF']) \n",
    "\n",
    "\n",
    "#print(df)\n",
    "print(classification_report(df['True'],df['Predicted']))"
   ]
  },
  {
   "cell_type": "code",
   "execution_count": 161,
   "id": "6f5934a7",
   "metadata": {},
   "outputs": [
    {
     "name": "stdout",
     "output_type": "stream",
     "text": [
      "              precision    recall  f1-score   support\n",
      "\n",
      "          EF       0.38      0.02      0.03       939\n",
      "          EN       0.25      0.06      0.10      3101\n",
      "          ES       0.00      0.00      0.00      1198\n",
      "          ET       1.00      0.00      0.00       968\n",
      "          IF       0.23      0.13      0.17      3288\n",
      "          IN       0.24      0.66      0.35      4166\n",
      "          IS       0.30      0.02      0.04      1697\n",
      "          IT       0.32      0.40      0.36      4643\n",
      "\n",
      "    accuracy                           0.26     20000\n",
      "   macro avg       0.34      0.16      0.13     20000\n",
      "weighted avg       0.29      0.26      0.20     20000\n",
      "\n"
     ]
    }
   ],
   "source": [
    "#this task was trained specifically on recognizing the pattern\n",
    "df=pd.read_csv('/home/deimann/mbti-eval/8/primtrain_classification_cp8890.csv')\n",
    "print(classification_report(df['True'],df['Predicted'],zero_division=0.00))"
   ]
  },
  {
   "cell_type": "markdown",
   "id": "9f22c1f4",
   "metadata": {},
   "source": [
    "First two functions identical"
   ]
  },
  {
   "cell_type": "code",
   "execution_count": 92,
   "id": "7d8a90bd",
   "metadata": {},
   "outputs": [
    {
     "name": "stdout",
     "output_type": "stream",
     "text": [
      "              precision    recall  f1-score   support\n",
      "\n",
      "        ifen       0.24      0.17      0.20      3377\n",
      "        ifes       0.11      0.20      0.14      1341\n",
      "        iief       0.17      0.17      0.17      2572\n",
      "        iiet       0.21      0.19      0.20      2962\n",
      "        isef       0.11      0.26      0.15       997\n",
      "        iset       0.14      0.22      0.17      1239\n",
      "        iten       0.42      0.24      0.30      5956\n",
      "        ites       0.13      0.18      0.15      1556\n",
      "\n",
      "    accuracy                           0.20     20000\n",
      "   macro avg       0.19      0.20      0.19     20000\n",
      "weighted avg       0.25      0.20      0.22     20000\n",
      "\n"
     ]
    }
   ],
   "source": [
    "#f2list = [iten,ites,ifen,ifes,iiet,iief,iset,isef]\n",
    "df['True'] = df['True'].replace(['INTP','ENTP','ISTP','ESTP','INFP','ENFP','ISFP','ESFP',\n",
    "                                'INTJ','ENTJ','INFJ','ENFJ','ISTJ','ESTJ','ISFJ','ESFJ'], \\\n",
    "                                ['iten','iten','ites','ites','ifen','ifen','ifes','ifes',\\\n",
    "                                 'iiet','iiet','iief','iief','iset','iset','isef','isef'])\n",
    "df['Predicted'] = df['Predicted'].replace(['INTP','ENTP','ISTP','ESTP','INFP','ENFP','ISFP','ESFP',\n",
    "                                'INTJ','ENTJ','INFJ','ENFJ','ISTJ','ESTJ','ISFJ','ESFJ'], \\\n",
    "                                ['iten','iten','ites','ites','ifen','ifen','ifes','ifes',\\\n",
    "                                 'iiet','iiet','iief','iief','iset','iset','isef','isef'])  \n",
    "print(classification_report(df['True'],df['Predicted']))\n",
    "#baltrain,propclas"
   ]
  },
  {
   "cell_type": "code",
   "execution_count": 136,
   "id": "20f5170b",
   "metadata": {},
   "outputs": [
    {
     "name": "stdout",
     "output_type": "stream",
     "text": [
      "              precision    recall  f1-score   support\n",
      "\n",
      "        ifen       0.23      0.26      0.24      3377\n",
      "        ifes       0.13      0.06      0.09      1341\n",
      "        iief       0.17      0.15      0.16      2572\n",
      "        iiet       0.20      0.21      0.21      2962\n",
      "        isef       0.14      0.06      0.08       997\n",
      "        iset       0.17      0.15      0.16      1239\n",
      "        iten       0.37      0.49      0.42      5956\n",
      "        ites       0.14      0.06      0.08      1556\n",
      "\n",
      "    accuracy                           0.26     20000\n",
      "   macro avg       0.19      0.18      0.18     20000\n",
      "weighted avg       0.24      0.26      0.24     20000\n",
      "\n"
     ]
    }
   ],
   "source": [
    "#f2list = [iten,ites,ifen,ifes,iiet,iief,iset,isef]\n",
    "df['True'] = df['True'].replace(['INTP','ENTP','ISTP','ESTP','INFP','ENFP','ISFP','ESFP',\n",
    "                                'INTJ','ENTJ','INFJ','ENFJ','ISTJ','ESTJ','ISFJ','ESFJ'], \\\n",
    "                                ['iten','iten','ites','ites','ifen','ifen','ifes','ifes',\\\n",
    "                                 'iiet','iiet','iief','iief','iset','iset','isef','isef'])\n",
    "df['Predicted'] = df['Predicted'].replace(['INTP','ENTP','ISTP','ESTP','INFP','ENFP','ISFP','ESFP',\n",
    "                                'INTJ','ENTJ','INFJ','ENFJ','ISTJ','ESTJ','ISFJ','ESFJ'], \\\n",
    "                                ['iten','iten','ites','ites','ifen','ifen','ifes','ifes',\\\n",
    "                                 'iiet','iiet','iief','iief','iset','iset','isef','isef'])  \n",
    "print(classification_report(df['True'],df['Predicted']))\n",
    "#propclass,proptrain"
   ]
  },
  {
   "cell_type": "code",
   "execution_count": 139,
   "id": "918f9eb4",
   "metadata": {},
   "outputs": [
    {
     "name": "stdout",
     "output_type": "stream",
     "text": [
      "              precision    recall  f1-score   support\n",
      "\n",
      "        efin       0.22      0.05      0.08      2572\n",
      "        efis       0.28      0.02      0.04       997\n",
      "        etin       0.25      0.11      0.15      2962\n",
      "        etis       0.27      0.06      0.10      1239\n",
      "        ifen       0.27      0.15      0.20      3377\n",
      "        ifes       0.00      0.00      0.00      1341\n",
      "        iten       0.32      0.86      0.47      5956\n",
      "        ites       0.00      0.00      0.00      1556\n",
      "\n",
      "    accuracy                           0.31     20000\n",
      "   macro avg       0.20      0.16      0.13     20000\n",
      "weighted avg       0.24      0.31      0.21     20000\n",
      "\n",
      "              precision    recall  f1-score   support\n",
      "\n",
      "        efin       0.20      0.05      0.08      2470\n",
      "        efis       0.63      0.05      0.09      2460\n",
      "        etin       0.20      0.09      0.13      2448\n",
      "        etis       0.41      0.05      0.08      2599\n",
      "        ifen       0.18      0.15      0.16      2547\n",
      "        ifes       1.00      0.00      0.00      2464\n",
      "        iten       0.14      0.85      0.24      2557\n",
      "        ites       0.00      0.00      0.00      2455\n",
      "\n",
      "    accuracy                           0.16     20000\n",
      "   macro avg       0.34      0.15      0.10     20000\n",
      "weighted avg       0.34      0.16      0.10     20000\n",
      "\n"
     ]
    }
   ],
   "source": [
    "df=pd.read_csv('/home/deimann/mbti-eval/8/first2train_classification_cp8890.csv')\n",
    "print(classification_report(df['True'],df['Predicted'],zero_division=0.00))\n",
    "#classifier that is trained on this task specifically\n",
    "df=pd.read_csv('/home/deimann/mbti-eval/8/first2train_bal-classification_cp8890.csv')\n",
    "print(classification_report(df['True'],df['Predicted'],zero_division=0.00))\n",
    "#second one has prop set, bal_eval"
   ]
  },
  {
   "cell_type": "markdown",
   "id": "5a7fc758",
   "metadata": {},
   "source": [
    "I/E Prep"
   ]
  },
  {
   "cell_type": "code",
   "execution_count": 112,
   "id": "0b44e21b",
   "metadata": {},
   "outputs": [
    {
     "name": "stdout",
     "output_type": "stream",
     "text": [
      "              precision    recall  f1-score   support\n",
      "\n",
      "           E       0.35      0.51      0.42      6206\n",
      "           I       0.72      0.59      0.65     13794\n",
      "\n",
      "    accuracy                           0.56     20000\n",
      "   macro avg       0.54      0.55      0.53     20000\n",
      "weighted avg       0.61      0.56      0.58     20000\n",
      "\n"
     ]
    }
   ],
   "source": [
    "df['True'] = df['True'].replace(['INTP','ISTP','INFP','ISFP','INTJ','ISTJ','INFJ','ISFJ',\n",
    "                                'ENTP','ESTP','ENFP','ESFP','ENTJ','ESTJ','ENFJ','ESFJ'], \\\n",
    "                                ['I','I','I','I','I','I','I','I','E','E','E','E','E','E','E','E']) \n",
    "df['Predicted'] = df['Predicted'].replace(['INTP','ISTP','INFP','ISFP','INTJ','ISTJ','INFJ','ISFJ',\n",
    "                                        'ENTP','ESTP','ENFP','ESFP','ENTJ','ESTJ','ENFJ','ESFJ'], \\\n",
    "                                        ['I','I','I','I','I','I','I','I','E','E','E','E','E','E','E','E']) \n",
    "print(classification_report(df['True'],df['Predicted']))"
   ]
  },
  {
   "cell_type": "code",
   "execution_count": 141,
   "id": "1cbe002c",
   "metadata": {},
   "outputs": [
    {
     "name": "stdout",
     "output_type": "stream",
     "text": [
      "              precision    recall  f1-score   support\n",
      "\n",
      "           E       0.00      0.00      0.00      3095\n",
      "           I       0.69      1.00      0.82      6905\n",
      "\n",
      "    accuracy                           0.69     10000\n",
      "   macro avg       0.35      0.50      0.41     10000\n",
      "weighted avg       0.48      0.69      0.56     10000\n",
      "\n"
     ]
    }
   ],
   "source": [
    "#trained on this task specifically, \n",
    "df=pd.read_csv('/home/deimann/mbti-eval/2/IE_classification_2clas_cp8000.csv')\n",
    "print(classification_report(df['True'],df['Predicted'],zero_division=0.00))"
   ]
  },
  {
   "cell_type": "markdown",
   "id": "87b195eb",
   "metadata": {},
   "source": [
    "N/S Prep"
   ]
  },
  {
   "cell_type": "code",
   "execution_count": 119,
   "id": "4a258ef9",
   "metadata": {},
   "outputs": [
    {
     "name": "stdout",
     "output_type": "stream",
     "text": [
      "              precision    recall  f1-score   support\n",
      "\n",
      "           N       0.77      0.58      0.66     14867\n",
      "           S       0.29      0.51      0.37      5133\n",
      "\n",
      "    accuracy                           0.56     20000\n",
      "   macro avg       0.53      0.54      0.52     20000\n",
      "weighted avg       0.65      0.56      0.59     20000\n",
      "\n"
     ]
    }
   ],
   "source": [
    "df['True'] = df['True'].replace(['ISTP','ESTP','ISFP','ESFP','ISTJ','ESTJ','ISFJ','ESFJ',\n",
    "                                'INTP','ENTP','ENFP','INFP','ENTJ','INTJ','ENFJ','INFJ'], \\\n",
    "                                    ['S','S','S','S','S','S','S','S','N','N','N','N','N','N','N','N',])\n",
    "df['Predicted'] = df['Predicted'].replace(['ISTP','ESTP','ISFP','ESFP','ISTJ','ESTJ','ISFJ','ESFJ',\n",
    "                                        'INTP','ENTP','ENFP','INFP','ENTJ','INTJ','ENFJ','INFJ'], \\\n",
    "                                        ['S','S','S','S','S','S','S','S','N','N','N','N','N','N','N','N',])\n",
    "print(classification_report(df['True'],df['Predicted']))"
   ]
  },
  {
   "cell_type": "code",
   "execution_count": 142,
   "id": "b99fc2a0",
   "metadata": {},
   "outputs": [
    {
     "name": "stdout",
     "output_type": "stream",
     "text": [
      "              precision    recall  f1-score   support\n",
      "\n",
      "           N       0.75      1.00      0.85      7465\n",
      "           S       0.00      0.00      0.00      2535\n",
      "\n",
      "    accuracy                           0.75     10000\n",
      "   macro avg       0.37      0.50      0.43     10000\n",
      "weighted avg       0.56      0.75      0.64     10000\n",
      "\n"
     ]
    }
   ],
   "source": [
    "#trained on this task specifically\n",
    "df=pd.read_csv('/home/deimann/mbti-eval/2/SN_classification_cp29095.csv')\n",
    "print(classification_report(df['True'],df['Predicted'],zero_division=0.00))"
   ]
  },
  {
   "attachments": {},
   "cell_type": "markdown",
   "id": "15d4f76a",
   "metadata": {},
   "source": [
    "T/F Prep"
   ]
  },
  {
   "cell_type": "code",
   "execution_count": 160,
   "id": "203969c4",
   "metadata": {},
   "outputs": [
    {
     "name": "stdout",
     "output_type": "stream",
     "text": [
      "              precision    recall  f1-score   support\n",
      "\n",
      "           F       0.48      0.56      0.52      8287\n",
      "           T       0.64      0.56      0.60     11713\n",
      "\n",
      "    accuracy                           0.56     20000\n",
      "   macro avg       0.56      0.56      0.56     20000\n",
      "weighted avg       0.57      0.56      0.57     20000\n",
      "\n"
     ]
    }
   ],
   "source": [
    "df['True'] = df['True'].replace(['ISTP','ESTP','ISTJ','ESTJ','INTP','ENTP','ENTJ','INTJ',\n",
    "                                     'ISFP','ESFP','ENFP','INFP','ISFJ','ESFJ','ENFJ','INFJ'], \\\n",
    "                                    ['T','T','T','T','T','T','T','T','F','F','F','F','F','F','F','F',])\n",
    "df['Predicted'] = df['Predicted'].replace(['ISTP','ESTP','ISTJ','ESTJ','INTP','ENTP','ENTJ','INTJ',\n",
    "                                     'ISFP','ESFP','ENFP','INFP','ISFJ','ESFJ','ENFJ','INFJ'], \\\n",
    "                                        ['T','T','T','T','T','T','T','T','F','F','F','F','F','F','F','F',])\n",
    "print(classification_report(df['True'],df['Predicted']))\n",
    "\n"
   ]
  },
  {
   "cell_type": "code",
   "execution_count": 156,
   "id": "f6c4c10d",
   "metadata": {},
   "outputs": [
    {
     "name": "stdout",
     "output_type": "stream",
     "text": [
      "              precision    recall  f1-score   support\n",
      "\n",
      "           F       0.46      0.44      0.45      4072\n",
      "           T       0.62      0.64      0.63      5928\n",
      "\n",
      "    accuracy                           0.56     10000\n",
      "   macro avg       0.54      0.54      0.54     10000\n",
      "weighted avg       0.56      0.56      0.56     10000\n",
      "\n"
     ]
    }
   ],
   "source": [
    "#this one was trained on this task specificially\n",
    "#trained on this task specifically\n",
    "df=pd.read_csv('/home/deimann/mbti-eval/2/TF_classification_cp40733.csv')\n",
    "print(classification_report(df['True'],df['Predicted'],zero_division=0.00))"
   ]
  },
  {
   "attachments": {},
   "cell_type": "markdown",
   "id": "18794028",
   "metadata": {},
   "source": [
    "P/J Prep"
   ]
  },
  {
   "cell_type": "code",
   "execution_count": 121,
   "id": "45127cf0",
   "metadata": {},
   "outputs": [
    {
     "name": "stdout",
     "output_type": "stream",
     "text": [
      "              precision    recall  f1-score   support\n",
      "\n",
      "           J       0.44      0.54      0.48      7770\n",
      "           P       0.66      0.56      0.60     12230\n",
      "\n",
      "    accuracy                           0.55     20000\n",
      "   macro avg       0.55      0.55      0.54     20000\n",
      "weighted avg       0.57      0.55      0.56     20000\n",
      "\n"
     ]
    }
   ],
   "source": [
    "df['True'] = df['True'].replace(['ISTP','ESTP','INTP','ENTP','ISFP','ESFP','ENFP','INFP',\n",
    "                                'ISTJ','ESTJ','ENTJ','INTJ','ISFJ','ESFJ','ENFJ','INFJ'], \\\n",
    "                                ['P','P','P','P','P','P','P','P','J','J','J','J','J','J','J','J'])\n",
    "df['Predicted'] = df['Predicted'].replace(['ISTP','ESTP','INTP','ENTP','ISFP','ESFP','ENFP','INFP',\n",
    "                                        'ISTJ','ESTJ','ENTJ','INTJ','ISFJ','ESFJ','ENFJ','INFJ'], \\\n",
    "                                        ['P','P','P','P','P','P','P','P','J','J','J','J','J','J','J','J'])\n",
    "print(classification_report(df['True'],df['Predicted']))"
   ]
  },
  {
   "cell_type": "code",
   "execution_count": 143,
   "id": "f9fa9e54",
   "metadata": {},
   "outputs": [
    {
     "name": "stdout",
     "output_type": "stream",
     "text": [
      "              precision    recall  f1-score   support\n",
      "\n",
      "           J       0.47      0.15      0.23      3910\n",
      "           P       0.62      0.89      0.73      6090\n",
      "\n",
      "    accuracy                           0.60     10000\n",
      "   macro avg       0.55      0.52      0.48     10000\n",
      "weighted avg       0.56      0.60      0.54     10000\n",
      "\n"
     ]
    }
   ],
   "source": [
    "#trained on this task specifically\n",
    "df=pd.read_csv('/home/deimann/mbti-eval/2/PJ_classification_cp49784.csv')\n",
    "print(classification_report(df['True'],df['Predicted'],zero_division=0.00))\n"
   ]
  }
 ],
 "metadata": {
  "kernelspec": {
   "display_name": "Python 3 (ipykernel)",
   "language": "python",
   "name": "python3"
  },
  "language_info": {
   "codemirror_mode": {
    "name": "ipython",
    "version": 3
   },
   "file_extension": ".py",
   "mimetype": "text/x-python",
   "name": "python",
   "nbconvert_exporter": "python",
   "pygments_lexer": "ipython3",
   "version": "3.8.5"
  }
 },
 "nbformat": 4,
 "nbformat_minor": 5
}
